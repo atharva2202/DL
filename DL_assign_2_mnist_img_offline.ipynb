{
 "cells": [
  {
   "cell_type": "markdown",
   "id": "d07a1445-aff7-4f00-a4f9-9a64e1564011",
   "metadata": {},
   "source": [
    "2: Implementing Feedforward neural networks with Keras and TensorFlow\n",
    "<br>\n",
    "a. Import the necessary packages\n",
    "<br>\n",
    "b. Load the training and testing data (MNIST/CIFAR10)\n",
    "<br>\n",
    "c. Define the network architecture using Keras\n",
    "<br>\n",
    "d. Train the model using SGD\n",
    "<br>\n",
    "e. Evaluate the network\n",
    "<br>\n",
    "f. Plot the training loss and accuracy\n",
    "<br>\n",
    "\n",
    "**datasets: MNIST, CIFER10**"
   ]
  },
  {
   "cell_type": "markdown",
   "id": "6c47a44a-a1e4-4f66-bca2-7e1f03a55c88",
   "metadata": {},
   "source": [
    "#### a. Import the necessary packages"
   ]
  },
  {
   "cell_type": "code",
   "execution_count": 12,
   "id": "e605bd17-9d23-4339-8535-e812a59d28a8",
   "metadata": {},
   "outputs": [],
   "source": [
    "import tensorflow as tf\n",
    "from tensorflow import keras\n",
    "from tensorflow.keras.preprocessing.image import ImageDataGenerator\n",
    "import matplotlib.pyplot as plt\n",
    "import numpy as np"
   ]
  },
  {
   "cell_type": "code",
   "execution_count": 13,
   "id": "bb025274-926d-4466-908f-fd58e8fc556e",
   "metadata": {},
   "outputs": [],
   "source": [
    "import os\n",
    "\n",
    "os.environ['TF_ENABLE_ONEDNN_OPTS'] = '0'\n",
    "\n",
    "import keras"
   ]
  },
  {
   "cell_type": "markdown",
   "id": "1d4a2b62-715d-45ae-9c17-31a8b4255212",
   "metadata": {},
   "source": [
    "#### b. Load the training and testing data (MNIST/CIFAR10)\n",
    "\n",
    "#### Note: Decrease batch size and remove some layers if epoch takes to much time to run"
   ]
  },
  {
   "cell_type": "code",
   "execution_count": 14,
   "id": "33f9dc3c-657f-4657-9eb8-c902f2adf658",
   "metadata": {
    "scrolled": true
   },
   "outputs": [
    {
     "name": "stdout",
     "output_type": "stream",
     "text": [
      "Found 60000 images belonging to 10 classes.\n",
      "Found 10000 images belonging to 10 classes.\n"
     ]
    }
   ],
   "source": [
    "train_data_dir = '/home/comp124/Downloads/mnist-jpg/train'\n",
    "test_data_dir = '/home/comp124/Downloads/mnist-jpg/test'\n",
    "\n",
    "# Image data generator for training data\n",
    "train_datagen = ImageDataGenerator(\n",
    "rescale=1.0/255\n",
    ")\n",
    "\n",
    "# Image data generator for testing data\n",
    "test_datagen = ImageDataGenerator(\n",
    "rescale=1.0/255\n",
    ")\n",
    "\n",
    "# Create data generators\n",
    "train_batch_size = 10000\n",
    "train_generator = train_datagen.flow_from_directory(\n",
    "    train_data_dir,\n",
    "    target_size=(28, 28),  # Resize images to 28x28\n",
    "    batch_size=train_batch_size,\n",
    "    class_mode='categorical', \n",
    "     color_mode='grayscale',# Use 'categorical' for one-hot encoded labels\n",
    "    shuffle=True,\n",
    ")\n",
    "\n",
    "# Load test data without labels (class_mode=None)\n",
    "test_batch_size = 2000\n",
    "test_generator = test_datagen.flow_from_directory(\n",
    "    test_data_dir,\n",
    "    target_size=(28, 28),  # Resize images to 28x28\n",
    "    batch_size=test_batch_size,\n",
    "    class_mode='categorical',  # Use 'categorical' for one-hot encoded labels\n",
    "      color_mode='grayscale',\n",
    "    shuffle=True,\n",
    ")"
   ]
  },
  {
   "cell_type": "markdown",
   "id": "911c258a",
   "metadata": {},
   "source": [
    "#### Selecting first batch containing 10000 images "
   ]
  },
  {
   "cell_type": "code",
   "execution_count": 15,
   "id": "3a6a9a5e-03b8-418b-9910-c9ce7362f0d6",
   "metadata": {},
   "outputs": [],
   "source": [
    "x_train, y_train = train_generator[0]\n",
    "x_test, y_test = test_generator[0]"
   ]
  },
  {
   "cell_type": "markdown",
   "id": "f0f60930-ed5e-418c-a74b-dc2c76746c27",
   "metadata": {},
   "source": [
    "#### c. Define the network architecture using Keras"
   ]
  },
  {
   "cell_type": "code",
   "execution_count": 16,
   "id": "404bc5fb-9f7d-4b60-a63a-f2bbe7361856",
   "metadata": {},
   "outputs": [],
   "source": [
    "model = keras.Sequential([\n",
    "    keras.layers.Flatten(input_shape=(28, 28, 1)),\n",
    "    keras.layers.Dense(128, activation=\"relu\"),\n",
    "    keras.layers.Dense(10, activation=\"softmax\")\n",
    "])"
   ]
  },
  {
   "cell_type": "markdown",
   "id": "a119f840-b982-432f-adbb-aa6542f99dda",
   "metadata": {},
   "source": [
    "#### d. Train the model using SGD"
   ]
  },
  {
   "cell_type": "code",
   "execution_count": 17,
   "id": "f4018ef3-8034-429f-a55f-e7e0729cc033",
   "metadata": {},
   "outputs": [
    {
     "name": "stdout",
     "output_type": "stream",
     "text": [
      "Epoch 1/8\n",
      "\u001b[1m313/313\u001b[0m \u001b[32m━━━━━━━━━━━━━━━━━━━━\u001b[0m\u001b[37m\u001b[0m \u001b[1m0s\u001b[0m 870us/step - accuracy: 0.4414 - loss: 1.8938 - val_accuracy: 0.8250 - val_loss: 0.8834\n",
      "Epoch 2/8\n",
      "\u001b[1m313/313\u001b[0m \u001b[32m━━━━━━━━━━━━━━━━━━━━\u001b[0m\u001b[37m\u001b[0m \u001b[1m0s\u001b[0m 710us/step - accuracy: 0.8280 - loss: 0.8026 - val_accuracy: 0.8665 - val_loss: 0.5640\n",
      "Epoch 3/8\n",
      "\u001b[1m313/313\u001b[0m \u001b[32m━━━━━━━━━━━━━━━━━━━━\u001b[0m\u001b[37m\u001b[0m \u001b[1m0s\u001b[0m 606us/step - accuracy: 0.8573 - loss: 0.5649 - val_accuracy: 0.8840 - val_loss: 0.4581\n",
      "Epoch 4/8\n",
      "\u001b[1m313/313\u001b[0m \u001b[32m━━━━━━━━━━━━━━━━━━━━\u001b[0m\u001b[37m\u001b[0m \u001b[1m0s\u001b[0m 701us/step - accuracy: 0.8823 - loss: 0.4695 - val_accuracy: 0.8945 - val_loss: 0.3975\n",
      "Epoch 5/8\n",
      "\u001b[1m313/313\u001b[0m \u001b[32m━━━━━━━━━━━━━━━━━━━━\u001b[0m\u001b[37m\u001b[0m \u001b[1m0s\u001b[0m 659us/step - accuracy: 0.8905 - loss: 0.4263 - val_accuracy: 0.9000 - val_loss: 0.3627\n",
      "Epoch 6/8\n",
      "\u001b[1m313/313\u001b[0m \u001b[32m━━━━━━━━━━━━━━━━━━━━\u001b[0m\u001b[37m\u001b[0m \u001b[1m0s\u001b[0m 719us/step - accuracy: 0.8957 - loss: 0.3851 - val_accuracy: 0.9055 - val_loss: 0.3390\n",
      "Epoch 7/8\n",
      "\u001b[1m313/313\u001b[0m \u001b[32m━━━━━━━━━━━━━━━━━━━━\u001b[0m\u001b[37m\u001b[0m \u001b[1m0s\u001b[0m 665us/step - accuracy: 0.9053 - loss: 0.3534 - val_accuracy: 0.9055 - val_loss: 0.3212\n",
      "Epoch 8/8\n",
      "\u001b[1m313/313\u001b[0m \u001b[32m━━━━━━━━━━━━━━━━━━━━\u001b[0m\u001b[37m\u001b[0m \u001b[1m0s\u001b[0m 655us/step - accuracy: 0.9065 - loss: 0.3378 - val_accuracy: 0.9075 - val_loss: 0.3085\n"
     ]
    }
   ],
   "source": [
    "model.compile(optimizer='sgd', loss='categorical_crossentropy', metrics=['accuracy'])\n",
    "history = model.fit(x_train, y_train, epochs=8, validation_data=(x_test, y_test))"
   ]
  },
  {
   "cell_type": "markdown",
   "id": "2a3b97f8-64f4-48c4-8d16-c4e39356b10f",
   "metadata": {},
   "source": [
    "#### e. Evaluate the network"
   ]
  },
  {
   "cell_type": "code",
   "execution_count": 18,
   "id": "7be3239c-f2f8-4bfc-8b66-9507c2b50d36",
   "metadata": {},
   "outputs": [
    {
     "name": "stdout",
     "output_type": "stream",
     "text": [
      "\u001b[1m63/63\u001b[0m \u001b[32m━━━━━━━━━━━━━━━━━━━━\u001b[0m\u001b[37m\u001b[0m \u001b[1m0s\u001b[0m 534us/step - accuracy: 0.8949 - loss: 0.3239\n",
      "Loss:  0.30848410725593567\n",
      "Accuracy:  0.9075000286102295\n"
     ]
    }
   ],
   "source": [
    "test_loss, test_acc = model.evaluate(x_test, y_test)\n",
    "print(\"Loss: \", test_loss)\n",
    "print(\"Accuracy: \", test_acc)"
   ]
  },
  {
   "cell_type": "code",
   "execution_count": 19,
   "id": "dd1ff28c-0f5e-44ab-85fb-6767a525ed7e",
   "metadata": {},
   "outputs": [
    {
     "name": "stdout",
     "output_type": "stream",
     "text": [
      "\u001b[1m63/63\u001b[0m \u001b[32m━━━━━━━━━━━━━━━━━━━━\u001b[0m\u001b[37m\u001b[0m \u001b[1m0s\u001b[0m 756us/step\n",
      "Actual Number:  6\n",
      "Predicted Number:  4\n"
     ]
    },
    {
     "data": {
      "image/png": "[encoded data removed]",
      "text/plain": [
       "<Figure size 432x288 with 1 Axes>"
      ]
     },
     "metadata": {
      "needs_background": "light"
     },
     "output_type": "display_data"
    }
   ],
   "source": [
    "n = 20 \n",
    "plt.imshow(x_test[n])\n",
    "predicted_value = model.predict(x_test)\n",
    "print(\"Actual Number: \",np.argmax(y_test[n]))\n",
    "print(\"Predicted Number: \", np.argmax(predicted_value[n]))"
   ]
  },
  {
   "cell_type": "markdown",
   "id": "fe8f7d7e-7a14-415a-92cd-e27fe16c180f",
   "metadata": {},
   "source": [
    "#### f. Plot the training loss and accuracy"
   ]
  },
  {
   "cell_type": "code",
   "execution_count": 20,
   "id": "bf4ab994-5a7a-459e-a000-d8bbdb3371aa",
   "metadata": {},
   "outputs": [
    {
     "data": {
      "text/plain": [
       "dict_keys(['accuracy', 'loss', 'val_accuracy', 'val_loss'])"
      ]
     },
     "execution_count": 20,
     "metadata": {},
     "output_type": "execute_result"
    }
   ],
   "source": [
    "history = history.history\n",
    "history.keys()"
   ]
  },
  {
   "cell_type": "code",
   "execution_count": 21,
   "id": "1f725ebe-48ae-4a38-841c-f9c9745f7638",
   "metadata": {},
   "outputs": [
    {
     "data": {
      "text/plain": [
       "<matplotlib.legend.Legend at 0x7f7d2c2f85b0>"
      ]
     },
     "execution_count": 21,
     "metadata": {},
     "output_type": "execute_result"
    },
    {
     "data": {
      "image/png": "[encoded data removed]",
      "text/plain": [
       "<Figure size 432x288 with 1 Axes>"
      ]
     },
     "metadata": {
      "needs_background": "light"
     },
     "output_type": "display_data"
    }
   ],
   "source": [
    "plt.plot(history['accuracy'])\n",
    "plt.plot(history['val_accuracy'])\n",
    "plt.title(\"Model Accuracy\")\n",
    "plt.ylabel('accuracy')\n",
    "plt.xlabel('epoch')\n",
    "plt.legend(['Train', \"Validation\"], loc='upper left')"
   ]
  },
  {
   "cell_type": "code",
   "execution_count": 22,
   "id": "78d58ce7-5087-4a04-89f0-e25f3c7f39e3",
   "metadata": {},
   "outputs": [
    {
     "data": {
      "text/plain": [
       "<matplotlib.legend.Legend at 0x7f7d2c2ced40>"
      ]
     },
     "execution_count": 22,
     "metadata": {},
     "output_type": "execute_result"
    },
    {
     "data": {
      "image/png": "[encoded data removed]",
      "text/plain": [
       "<Figure size 432x288 with 1 Axes>"
      ]
     },
     "metadata": {
      "needs_background": "light"
     },
     "output_type": "display_data"
    }
   ],
   "source": [
    "plt.plot(history['loss'])\n",
    "plt.plot(history['val_loss'])\n",
    "plt.title('model loss')\n",
    "plt.ylabel('loss')\n",
    "plt.xlabel('epoch')\n",
    "plt.legend(['Train', 'Validation'], loc='upper left')"
   ]
  },
  {
   "cell_type": "code",
   "execution_count": 23,
   "id": "8cf42e9d-f598-4568-82f5-414c77e2bf95",
   "metadata": {},
   "outputs": [
    {
     "data": {
      "text/plain": [
       "<matplotlib.legend.Legend at 0x7f7d362424d0>"
      ]
     },
     "execution_count": 23,
     "metadata": {},
     "output_type": "execute_result"
    },
    {
     "data": {
      "image/png": "[encoded data removed]",
      "text/plain": [
       "<Figure size 432x288 with 1 Axes>"
      ]
     },
     "metadata": {
      "needs_background": "light"
     },
     "output_type": "display_data"
    }
   ],
   "source": [
    "plt.plot(history['accuracy'])\n",
    "plt.plot(history['val_accuracy'])\n",
    "plt.plot(history['loss'])\n",
    "plt.plot(history['val_loss'])\n",
    "plt.title('Training Loss and accuracy')\n",
    "plt.ylabel('accuracy/Loss')\n",
    "plt.xlabel('epoch')\n",
    "plt.legend(['accuracy', 'val_accuracy','loss','val_loss'])"
   ]
  },
  {
   "cell_type": "code",
   "execution_count": null,
   "id": "c1f0ff2e-400f-4292-a82d-272eec445541",
   "metadata": {},
   "outputs": [],
   "source": []
  }
 ],
 "metadata": {
  "kernelspec": {
   "display_name": "Python 3 (ipykernel)",
   "language": "python",
   "name": "python3"
  },
  "language_info": {
   "codemirror_mode": {
    "name": "ipython",
    "version": 3
   },
   "file_extension": ".py",
   "mimetype": "text/x-python",
   "name": "python",
   "nbconvert_exporter": "python",
   "pygments_lexer": "ipython3",
   "version": "3.10.12"
  }
 },
 "nbformat": 4,
 "nbformat_minor": 5
}
